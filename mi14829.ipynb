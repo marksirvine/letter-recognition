{
 "cells": [
  {
   "cell_type": "code",
   "execution_count": null,
   "metadata": {
    "collapsed": false
   },
   "outputs": [],
   "source": [
    "import numpy as np\n",
    "from skimage import io\n",
    "from scipy import stats\n",
    "import matplotlib.pyplot as plt\n",
    "\n",
    "\n",
    "f = io.imread('characters/A1.GIF')   # read in image\n",
    "f_f = np.array(f, dtype=float)\n",
    "z = np.fft.fft2(f_f)           # do fourier transform\n",
    "q = np.fft.fftshift(z)         # puts u=0,v=0 in the centre\n",
    "Magq =  np.absolute(q)         # magnitude spectrum\n",
    "Phaseq = np.angle(q)           # phase spectrum\n",
    "\n",
    "fig1 = plt.figure()\n",
    "ax1  = fig1.add_subplot( 111 )\n",
    "ax1.axis('off')\n",
    "# Usually for viewing purposes:\n",
    "ax1.imshow( np.log( np.absolute(q) + 1 ), cmap='gray' ) # io.\n",
    "\n",
    "w = np.fft.ifft2( np.fft.ifftshift(q) ) # do inverse fourier transform\n",
    "#\n",
    "fig2 = plt.figure()\n",
    "ax2  = fig2.add_subplot( 111 )\n",
    "ax2.axis('off')\n",
    "ax2.imshow( np.array(w,dtype=int), cmap='gray' ) # io.\n",
    "\n",
    "plt.show()"
   ]
  },
  {
   "cell_type": "code",
   "execution_count": null,
   "metadata": {
    "collapsed": true
   },
   "outputs": [],
   "source": []
  }
 ],
 "metadata": {
  "kernelspec": {
   "display_name": "Python 3",
   "language": "python",
   "name": "python3"
  },
  "language_info": {
   "codemirror_mode": {
    "name": "ipython",
    "version": 3
   },
   "file_extension": ".py",
   "mimetype": "text/x-python",
   "name": "python",
   "nbconvert_exporter": "python",
   "pygments_lexer": "ipython3",
   "version": "3.5.1"
  }
 },
 "nbformat": 4,
 "nbformat_minor": 0
}
